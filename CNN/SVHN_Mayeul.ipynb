{
 "cells": [
  {
   "cell_type": "code",
   "execution_count": null,
   "metadata": {
    "id": "xG0M2r4Pjwqb"
   },
   "outputs": [],
   "source": [
    "import matplotlib.pyplot as plt\n",
    "from structure import *"
   ]
  },
  {
   "cell_type": "code",
   "execution_count": null,
   "metadata": {
    "colab": {
     "base_uri": "https://localhost:8080/"
    },
    "executionInfo": {
     "elapsed": 39,
     "status": "ok",
     "timestamp": 1748003083557,
     "user": {
      "displayName": "Shauser Hs",
      "userId": "10037276790853118215"
     },
     "user_tz": -120
    },
    "id": "0zyvj3NAj5sK",
    "outputId": "c401e01c-8faa-4b13-a9be-93672770c904"
   },
   "outputs": [],
   "source": [
    "import torch\n",
    "print(torch.cuda.is_available())  # Doit afficher: True\n",
    "print(torch.cuda.get_device_name(0))  # Affiche le nom du GPU (ex: Tesla T4)"
   ]
  },
  {
   "cell_type": "code",
   "execution_count": null,
   "metadata": {
    "colab": {
     "base_uri": "https://localhost:8080/"
    },
    "executionInfo": {
     "elapsed": 4087232,
     "status": "ok",
     "timestamp": 1748007405411,
     "user": {
      "displayName": "Shauser Hs",
      "userId": "10037276790853118215"
     },
     "user_tz": -120
    },
    "id": "Oy96atRhtmHy",
    "outputId": "643e1131-ed5e-4759-f25d-3d660da1cf03"
   },
   "outputs": [],
   "source": [
    "# === Setup des optimiseurs ===\n",
    "optimizers_sweep = []\n",
    "\n",
    "optimizers_sweep += build_optimizer_param_sweep(\"SGD\", lr=[0.0001, 0.001, 0.005, 0.01, 0.05])\n",
    "optimizers_sweep += build_optimizer_param_sweep(\"Adam\", lr=[0.000001, 0.000005, 0.00001, 0.00005, 0.0001])\n",
    "optimizers_sweep += build_optimizer_param_sweep(\"RMSprop\", lr=[0.000001, 0.000005, 0.00001, 0.00005, 0.0001])\n",
    "optimizers_sweep += build_optimizer_param_sweep(\"GD\", lr=[0.0001, 0.001, 0.005, 0.01, 0.05])\n",
    "optimizers_sweep += build_optimizer_param_sweep(\"PGD\", lr=[0.0001, 0.0005, 0.001, 0.005, 0.01, 0.05])\n",
    "optimizers_sweep += build_optimizer_param_sweep(\"PartialGD\", lr=[0.0001, 0.0005, 0.001, 0.005, 0.01, 0.05])\n",
    "optimizers_sweep += build_optimizer_param_sweep(\"Momentum\", lr=[0.0001, 0.0005, 0.001, 0.005, 0.01, 0.05])\n",
    "optimizers_sweep += build_optimizer_param_sweep(\"Nesterov\", lr=[0.0001, 0.0005, 0.001, 0.005, 0.01, 0.05])\n",
    "\n",
    "models = [make_model_config(\"CNN\", input_channels=3,\n",
    "    conv_layers_config=[\n",
    "        {\"out_channels\": 64, \"kernel_size\": 3},\n",
    "        {\"out_channels\": 128, \"kernel_size\": 3},\n",
    "        {\"out_channels\": 256, \"kernel_size\": 3}\n",
    "    ],\n",
    "    fc_layers=[256, 10],\n",
    "    activation=\"relu\",\n",
    "    use_maxpool=True,\n",
    "    input_size=(32, 32))]\n",
    "\n",
    "# === Lancement ===\n",
    "results = run_experiments(\n",
    "    datasets=[\"SVHN\"],\n",
    "    models=models,\n",
    "    optimizers_with_params=optimizers_sweep,\n",
    "    scheduler_config=None,\n",
    "    epochs=5,\n",
    "    save_results=True,\n",
    "    save_path=\"data/SVHN_CNN_many_optim_V3_5_epoch.json\"\n",
    ")"
   ]
  }
 ],
 "metadata": {
  "accelerator": "GPU",
  "colab": {
   "authorship_tag": "ABX9TyNVSrGoiWkgoW3RR4IyVnPv",
   "gpuType": "T4",
   "provenance": []
  },
  "kernelspec": {
   "display_name": "Python3",
   "language": "python",
   "name": "python3"
  },
  "language_info": {
   "codemirror_mode": {
    "name": "ipython",
    "version": 3
   },
   "file_extension": ".py",
   "mimetype": "text/x-python",
   "name": "python",
   "nbconvert_exporter": "python",
   "pygments_lexer": "ipython3",
   "version": "3.12.8"
  }
 },
 "nbformat": 4,
 "nbformat_minor": 4
}
