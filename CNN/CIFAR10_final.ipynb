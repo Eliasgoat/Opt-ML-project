{
 "cells": [
  {
   "cell_type": "code",
   "execution_count": null,
   "metadata": {
    "colab": {
     "base_uri": "https://localhost:8080/"
    },
    "executionInfo": {
     "elapsed": 18614,
     "status": "ok",
     "timestamp": 1748003071925,
     "user": {
      "displayName": "Shauser Hs",
      "userId": "10037276790853118215"
     },
     "user_tz": -120
    },
    "id": "GvuVAaXPhtwB",
    "outputId": "4a13611f-b267-4497-b9c3-201075b5ecf0"
   },
   "outputs": [],
   "source": [
    "# from google.colab import drive\n",
    "# drive.mount('/content/drive')"
   ]
  },
  {
   "cell_type": "code",
   "execution_count": null,
   "metadata": {
    "colab": {
     "base_uri": "https://localhost:8080/"
    },
    "executionInfo": {
     "elapsed": 539,
     "status": "ok",
     "timestamp": 1748003072449,
     "user": {
      "displayName": "Shauser Hs",
      "userId": "10037276790853118215"
     },
     "user_tz": -120
    },
    "id": "21Dr8OcljhdT",
    "outputId": "a53d48c6-146d-4166-aa5c-4bfea9d6e8fe"
   },
   "outputs": [],
   "source": [
    "# %cd /content/drive/MyDrive/Opt-ML-project"
   ]
  },
  {
   "cell_type": "code",
   "execution_count": null,
   "metadata": {
    "id": "xG0M2r4Pjwqb"
   },
   "outputs": [],
   "source": [
    "import matplotlib.pyplot as plt\n",
    "from structure import *"
   ]
  },
  {
   "cell_type": "code",
   "execution_count": null,
   "metadata": {
    "colab": {
     "base_uri": "https://localhost:8080/"
    },
    "executionInfo": {
     "elapsed": 39,
     "status": "ok",
     "timestamp": 1748003083557,
     "user": {
      "displayName": "Shauser Hs",
      "userId": "10037276790853118215"
     },
     "user_tz": -120
    },
    "id": "0zyvj3NAj5sK",
    "outputId": "c401e01c-8faa-4b13-a9be-93672770c904"
   },
   "outputs": [],
   "source": [
    "import torch\n",
    "print(torch.cuda.is_available())  # Has to return True if a GPU is available\n",
    "print(torch.cuda.get_device_name(0))  # Displays the name of the GPU (e.g., Tesla T4)"
   ]
  },
  {
   "cell_type": "code",
   "execution_count": null,
   "metadata": {
    "colab": {
     "base_uri": "https://localhost:8080/"
    },
    "id": "8k9EqLVZgvVW",
    "outputId": "4029687b-627c-4a6a-8870-4e3e4be0e4fe"
   },
   "outputs": [],
   "source": [
    "# === Optimizers setup ===\n",
    "optimizers_sweep = []\n",
    "\n",
    "optimizers_sweep += build_optimizer_param_sweep(\"SGD\", lr=[0.05])\n",
    "optimizers_sweep += build_optimizer_param_sweep(\"Adam\", lr=[0.0001])\n",
    "optimizers_sweep += build_optimizer_param_sweep(\"RMSprop\", lr=[0.00001])\n",
    "optimizers_sweep += build_optimizer_param_sweep(\"GD\", lr=[0.05])\n",
    "optimizers_sweep += build_optimizer_param_sweep(\"PGD\", lr=[0.05])\n",
    "optimizers_sweep += build_optimizer_param_sweep(\"PartialGD\", lr=[0.005])\n",
    "optimizers_sweep += build_optimizer_param_sweep(\"Momentum\", lr=[0.005])\n",
    "optimizers_sweep += build_optimizer_param_sweep(\"Nesterov\", lr=[0.01])\n",
    "\n",
    "models = [make_model_config(\"CNN\", input_channels=3,\n",
    "    conv_layers_config=[\n",
    "        {\"out_channels\": 64, \"kernel_size\": 3},\n",
    "        {\"out_channels\": 128, \"kernel_size\": 3},\n",
    "        {\"out_channels\": 256, \"kernel_size\": 3}\n",
    "    ],\n",
    "    fc_layers=[256, 10],\n",
    "    activation=\"relu\",\n",
    "    use_maxpool=True,\n",
    "    input_size=(32, 32))]\n",
    "\n",
    "results = run_experiments(\n",
    "    datasets=[\"CIFAR10\"],\n",
    "    models=models,\n",
    "    optimizers_with_params=optimizers_sweep,\n",
    "    scheduler_config=None,\n",
    "    epochs=30,\n",
    "    avg_over_seeds=True,\n",
    "    seeds=[0, 1, 2, 3, 4],\n",
    "    save_results=True,\n",
    "    save_path=\"results_final_CIFAR10.json\"\n",
    ")"
   ]
  }
 ],
 "metadata": {
  "accelerator": "GPU",
  "colab": {
   "authorship_tag": "ABX9TyM25FHDA73qv0zYRb9XICpM",
   "gpuType": "T4",
   "provenance": []
  },
  "kernelspec": {
   "display_name": "Python3",
   "language": "python",
   "name": "python3"
  },
  "language_info": {
   "codemirror_mode": {
    "name": "ipython",
    "version": 3
   },
   "file_extension": ".py",
   "mimetype": "text/x-python",
   "name": "python",
   "nbconvert_exporter": "python",
   "pygments_lexer": "ipython3",
   "version": "3.12.8"
  }
 },
 "nbformat": 4,
 "nbformat_minor": 4
}
